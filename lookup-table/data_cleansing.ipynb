{
 "cells": [
  {
   "cell_type": "code",
   "execution_count": 5,
   "metadata": {},
   "outputs": [
    {
     "data": {
      "text/html": [
       "<div>\n",
       "<style scoped>\n",
       "    .dataframe tbody tr th:only-of-type {\n",
       "        vertical-align: middle;\n",
       "    }\n",
       "\n",
       "    .dataframe tbody tr th {\n",
       "        vertical-align: top;\n",
       "    }\n",
       "\n",
       "    .dataframe thead th {\n",
       "        text-align: right;\n",
       "    }\n",
       "</style>\n",
       "<table border=\"1\" class=\"dataframe\">\n",
       "  <thead>\n",
       "    <tr style=\"text-align: right;\">\n",
       "      <th></th>\n",
       "      <th>Unnamed: 0</th>\n",
       "      <th>temp-opt</th>\n",
       "      <th>temp-max</th>\n",
       "      <th>rainfall-opt</th>\n",
       "      <th>rainfall-max</th>\n",
       "      <th>ph-opt</th>\n",
       "      <th>ph-max</th>\n",
       "      <th>soil-type</th>\n",
       "      <th>soil-type-2</th>\n",
       "    </tr>\n",
       "  </thead>\n",
       "  <tbody>\n",
       "    <tr>\n",
       "      <th>0</th>\n",
       "      <td>bugday</td>\n",
       "      <td>15-23</td>\n",
       "      <td>5-27</td>\n",
       "      <td>750-900</td>\n",
       "      <td>300-1600</td>\n",
       "      <td>5-7</td>\n",
       "      <td>4.5 – 8.5</td>\n",
       "      <td>alluvial</td>\n",
       "      <td>NaN</td>\n",
       "    </tr>\n",
       "    <tr>\n",
       "      <th>1</th>\n",
       "      <td>arpa</td>\n",
       "      <td>15-20</td>\n",
       "      <td>2-40</td>\n",
       "      <td>500-1000</td>\n",
       "      <td>200-2000</td>\n",
       "      <td>6.5-7.5</td>\n",
       "      <td>6-8</td>\n",
       "      <td>alluvial</td>\n",
       "      <td>NaN</td>\n",
       "    </tr>\n",
       "    <tr>\n",
       "      <th>2</th>\n",
       "      <td>misir</td>\n",
       "      <td>18-33</td>\n",
       "      <td>10-47</td>\n",
       "      <td>600-1200</td>\n",
       "      <td>400-1800</td>\n",
       "      <td>5-7</td>\n",
       "      <td>4.5-8.5</td>\n",
       "      <td>alluvial</td>\n",
       "      <td>black</td>\n",
       "    </tr>\n",
       "    <tr>\n",
       "      <th>3</th>\n",
       "      <td>pirinc</td>\n",
       "      <td>20-30</td>\n",
       "      <td>10-36</td>\n",
       "      <td>1500-2000</td>\n",
       "      <td>1000-4000</td>\n",
       "      <td>5.5-7</td>\n",
       "      <td>4.5-9</td>\n",
       "      <td>alluvial</td>\n",
       "      <td>clay</td>\n",
       "    </tr>\n",
       "    <tr>\n",
       "      <th>4</th>\n",
       "      <td>tutun</td>\n",
       "      <td>15-30</td>\n",
       "      <td>7-35</td>\n",
       "      <td>500-750</td>\n",
       "      <td>350-3000</td>\n",
       "      <td>5-6.5</td>\n",
       "      <td>4.5-7.5</td>\n",
       "      <td>black</td>\n",
       "      <td>NaN</td>\n",
       "    </tr>\n",
       "  </tbody>\n",
       "</table>\n",
       "</div>"
      ],
      "text/plain": [
       "  Unnamed: 0 temp-opt temp-max rainfall-opt rainfall-max   ph-opt     ph-max  \\\n",
       "0     bugday   15-23      5-27     750-900      300-1600     5-7   4.5 – 8.5   \n",
       "1       arpa   15-20      2-40    500-1000      200-2000  6.5-7.5        6-8   \n",
       "2      misir    18-33    10-47     600-1200     400-1800      5-7    4.5-8.5   \n",
       "3     pirinc    20-30    10-36    1500-2000    1000-4000    5.5-7      4.5-9   \n",
       "4      tutun    15-30     7-35      500-750     350-3000    5-6.5    4.5-7.5   \n",
       "\n",
       "  soil-type soil-type-2  \n",
       "0  alluvial         NaN  \n",
       "1  alluvial         NaN  \n",
       "2  alluvial       black  \n",
       "3  alluvial        clay  \n",
       "4     black         NaN  "
      ]
     },
     "execution_count": 5,
     "metadata": {},
     "output_type": "execute_result"
    }
   ],
   "source": [
    "import pandas as pd\n",
    "\n",
    "df = pd.read_excel('data/data.xlsx')\n",
    "df.head()"
   ]
  },
  {
   "cell_type": "code",
   "execution_count": 6,
   "metadata": {},
   "outputs": [],
   "source": [
    "#split the columns temp-opt, temp-max, rainfall-opt, rainfall-max, ph-opt, ph-max into two by the seperator \"-\"\n",
    "df[['temp-opt-min','temp-opt-max']] = df['temp-opt'].str.split('-',expand=True)\n",
    "df[['temp-crt-min','temp-crt-max']] = df['temp-max'].str.split('-',expand=True)\n",
    "df[['rainfall-opt-min','rainfall-opt-max']] = df['rainfall-opt'].str.split('-',expand=True)\n",
    "df[['rainfall-crt-min','rainfall-crt-max']] = df['rainfall-max'].str.split('-',expand=True)\n",
    "df[['ph-opt-min','ph-opt-max']] = df['ph-opt'].str.split('-',expand=True)\n",
    "df[['ph-crt-min','ph-crt-max']] = df['ph-max'].str.split('-',expand=True)\n",
    "\n",
    "#drop the original columns\n",
    "df.drop(['temp-opt','temp-max','rainfall-opt','rainfall-max','ph-opt','ph-max'],axis=1,inplace=True)"
   ]
  },
  {
   "cell_type": "code",
   "execution_count": 7,
   "metadata": {},
   "outputs": [
    {
     "data": {
      "text/plain": [
       "Index(['Unnamed: 0', 'soil-type', 'soil-type-2', 'temp-opt-min',\n",
       "       'temp-opt-max', 'temp-crt-min', 'temp-crt-max', 'rainfall-opt-min',\n",
       "       'rainfall-opt-max', 'rainfall-crt-min', 'rainfall-crt-max',\n",
       "       'ph-opt-min', 'ph-opt-max', 'ph-crt-min', 'ph-crt-max'],\n",
       "      dtype='object')"
      ]
     },
     "execution_count": 7,
     "metadata": {},
     "output_type": "execute_result"
    }
   ],
   "source": [
    "df.columns"
   ]
  },
  {
   "cell_type": "code",
   "execution_count": 8,
   "metadata": {},
   "outputs": [],
   "source": [
    "#Fixing the column names and dropping rows with missing values\n",
    "df.rename(columns={\"Unnamed: 0\":\"crop\"},inplace=True)\n",
    "df.dropna(subset=['soil-type'], inplace=True)\n",
    "df.to_excel('data/lookup.xlsx',index=False)"
   ]
  }
 ],
 "metadata": {
  "kernelspec": {
   "display_name": "base",
   "language": "python",
   "name": "python3"
  },
  "language_info": {
   "codemirror_mode": {
    "name": "ipython",
    "version": 3
   },
   "file_extension": ".py",
   "mimetype": "text/x-python",
   "name": "python",
   "nbconvert_exporter": "python",
   "pygments_lexer": "ipython3",
   "version": "3.11.5"
  }
 },
 "nbformat": 4,
 "nbformat_minor": 2
}
